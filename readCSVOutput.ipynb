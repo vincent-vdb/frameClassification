{
 "cells": [
  {
   "cell_type": "code",
   "execution_count": null,
   "metadata": {},
   "outputs": [],
   "source": [
    "import csv\n",
    "import numpy as np\n",
    "import matplotlib.pyplot as plt\n",
    "from scipy.signal import savgol_filter\n",
    "\n",
    "from computeDistance import *"
   ]
  },
  {
   "cell_type": "code",
   "execution_count": null,
   "metadata": {},
   "outputs": [],
   "source": [
    "# Pick the needed file\n",
    "csv_filename = 'video/stage-large_cam_1_30fps_635-665out.csv'\n",
    "\n",
    "# get the raw boxes\n",
    "raw_boxes_output, box_per_frame = get_raw_boxes_information(csv_filename)\n",
    "\n",
    "# perform non max suppression\n",
    "boxes_output = non_max_suppression(raw_boxes_output, iou_threshold = 0.7)"
   ]
  },
  {
   "cell_type": "code",
   "execution_count": null,
   "metadata": {},
   "outputs": [],
   "source": [
    "# Display the mean human box size per frame (with and without non max suppression)\n",
    "detect_threshold = 0.\n",
    "raw_mean_human_size = get_mean_human_boxes_size_per_frame(raw_boxes_output, detect_threshold = detect_threshold)\n",
    "mean_human_size = get_mean_human_boxes_size_per_frame(boxes_output, detect_threshold = detect_threshold)\n",
    "plt.plot(np.arange(len(mean_human_size)), raw_mean_human_size, label = 'raw')\n",
    "plt.plot(np.arange(len(mean_human_size)), mean_human_size, label='non max suppression')\n",
    "plt.xlabel('Frame')\n",
    "plt.ylabel('Mean human box size')\n",
    "plt.legend()\n",
    "\n",
    "plt.show()"
   ]
  },
  {
   "cell_type": "code",
   "execution_count": null,
   "metadata": {},
   "outputs": [],
   "source": [
    "# Display the histogram of the human box size\n",
    "raw_human_box_hist = get_human_boxes_size_hist(raw_boxes_output, detect_threshold = detect_threshold)\n",
    "human_box_hist = get_human_boxes_size_hist(boxes_output, detect_threshold = detect_threshold)\n",
    "\n",
    "plt.hist(raw_human_box_hist, 50, normed=1, facecolor='blue', alpha=0.5, label='raw')\n",
    "plt.hist(human_box_hist, 50, normed=1, facecolor='orange', alpha=0.5, label='non max suppression')\n",
    "plt.xlabel('Human box size')\n",
    "plt.ylabel('# occurrences')\n",
    "plt.legend()\n",
    "plt.grid(True)\n",
    "plt.show()"
   ]
  },
  {
   "cell_type": "code",
   "execution_count": null,
   "metadata": {},
   "outputs": [],
   "source": [
    "# Display the histogram of the detection scores\n",
    "raw_scores_hist = get_detection_score_hist(raw_boxes_output)\n",
    "score_hist = get_detection_score_hist(boxes_output)\n",
    "\n",
    "plt.hist(raw_scores_hist, 50, normed=1, facecolor='blue', alpha=0.5, label='raw')\n",
    "plt.hist(score_hist, 50, normed=1, facecolor='orange', alpha=0.5, label='non max suppression')\n",
    "plt.xlabel('detection score')\n",
    "plt.ylabel('# occurrences')\n",
    "plt.legend()\n",
    "plt.grid(True)\n",
    "plt.show()"
   ]
  },
  {
   "cell_type": "code",
   "execution_count": null,
   "metadata": {},
   "outputs": [],
   "source": [
    "# Display the number of detected human per frame (with and without non max suppression)\n",
    "detect_threshold = 0.65\n",
    "size_threshold = 0.02\n",
    "raw_humans_per_frame = get_human_boxes_per_frame(raw_boxes_output, \n",
    "                                                 detect_threshold = detect_threshold, \n",
    "                                                 size_threshold = size_threshold)\n",
    "humans_per_frame = get_human_boxes_per_frame(boxes_output, \n",
    "                                             detect_threshold = detect_threshold, \n",
    "                                             size_threshold = size_threshold)\n",
    "\n",
    "print('non max suppression mean humans per frame: ', np.mean(humans_per_frame))\n",
    "\n",
    "plt.plot(np.arange(len(humans_per_frame)), raw_humans_per_frame,  label='raw')\n",
    "plt.plot(np.arange(len(humans_per_frame)), humans_per_frame, label='non max suppression')\n",
    "plt.xlabel('Frame')\n",
    "plt.ylabel('Number of human boxes')\n",
    "plt.legend()\n",
    "plt.show()"
   ]
  },
  {
   "cell_type": "code",
   "execution_count": null,
   "metadata": {},
   "outputs": [],
   "source": [
    "# Perform curve smoothing on the humans per frame data\n",
    "width = 31\n",
    "poly_order = 1\n",
    "savgol_humans_per_frame = savgol_filter(humans_per_frame, width, poly_order)\n",
    "handmade_smoothing = curve_smoothing(humans_per_frame, width = width)\n",
    "\n",
    "plt.plot(np.arange(len(savgol_humans_per_frame)), savgol_humans_per_frame, label='savgol filter')\n",
    "plt.plot(np.arange(len(savgol_humans_per_frame)), handmade_smoothing, label='handmade filter')\n",
    "\n",
    "plt.xlabel('Frame')\n",
    "plt.ylabel('Number of human boxes')\n",
    "plt.legend()\n",
    "plt.show()"
   ]
  },
  {
   "cell_type": "code",
   "execution_count": null,
   "metadata": {
    "scrolled": true
   },
   "outputs": [],
   "source": [
    "# Perform the all chain of distance computation\n",
    "# Give all the parameters\n",
    "duration = 20\n",
    "size_threshold = 0.02\n",
    "mean_size_threshold = 0.02\n",
    "detect_threshold = 0.65\n",
    "iou_threshold=0.7\n",
    "dist = compute_frame_classification(csv_filename = csv_filename, video_duration = duration, \n",
    "                                    size_threshold = size_threshold, mean_size_threshold = mean_size_threshold,\n",
    "                                    detect_threshold = detect_threshold, iou_threshold = iou_threshold)\n",
    "\n",
    "plt.plot(np.arange(len(dist)), dist)\n",
    "plt.xlabel('Time (s)')\n",
    "plt.ylabel('Distance to normal')\n",
    "plt.show()"
   ]
  },
  {
   "cell_type": "code",
   "execution_count": null,
   "metadata": {},
   "outputs": [],
   "source": []
  }
 ],
 "metadata": {
  "kernelspec": {
   "display_name": "Python 3",
   "language": "python",
   "name": "python3"
  },
  "language_info": {
   "codemirror_mode": {
    "name": "ipython",
    "version": 3
   },
   "file_extension": ".py",
   "mimetype": "text/x-python",
   "name": "python",
   "nbconvert_exporter": "python",
   "pygments_lexer": "ipython3",
   "version": "3.6.6"
  }
 },
 "nbformat": 4,
 "nbformat_minor": 2
}
